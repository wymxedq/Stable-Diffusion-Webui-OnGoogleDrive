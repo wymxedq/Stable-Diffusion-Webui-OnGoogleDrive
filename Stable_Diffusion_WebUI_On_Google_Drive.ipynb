{
  "cells": [
    {
      "cell_type": "markdown",
      "metadata": {
        "id": "view-in-github",
        "colab_type": "text"
      },
      "source": [
        "<a href=\"https://colab.research.google.com/github/wymxedq/Stable-Diffusion-Webui-OnGoogleDrive/blob/main/Stable_Diffusion_WebUI_On_Google_Drive.ipynb\" target=\"_parent\"><img src=\"https://colab.research.google.com/assets/colab-badge.svg\" alt=\"Open In Colab\"/></a>"
      ]
    },
    {
      "cell_type": "markdown",
      "metadata": {
        "id": "KMABbZOJFT6V"
      },
      "source": [
        "# Stable Diffusion WebUI On Google Drive V0.21 by wymxedq\n",
        "> ### 部署在谷歌云盘上，无需每次重新部署\n",
        "> ### 请确保谷歌云盘有足够的空间\n",
        "\n",
        "> ### 目前虚拟环境暂时有问题，需要每次都重新部署"
      ]
    },
    {
      "cell_type": "markdown",
      "metadata": {
        "id": "SQewCon-fRqF"
      },
      "source": [
        "## 1.挂载谷歌网盘 "
      ]
    },
    {
      "cell_type": "code",
      "execution_count": null,
      "metadata": {
        "id": "PS8ga_W0E8Pf",
        "colab": {
          "base_uri": "https://localhost:8080/"
        },
        "outputId": "b18c142f-0e97-4e2d-fdaf-62b3f604c71d"
      },
      "outputs": [
        {
          "output_type": "stream",
          "name": "stdout",
          "text": [
            "Mounted at /content/drive\n"
          ]
        }
      ],
      "source": [
        "import os\n",
        "from google.colab import drive\n",
        "\n",
        "force_remount_param = False\n",
        "try:\n",
        "  drive_path = \"/content/drive\"\n",
        "  drive.mount(drive_path,force_remount=force_remount_param)\n",
        "except:\n",
        "  print(\"挂载失败，请确认已登录谷歌账号并在弹窗中授权\")"
      ]
    },
    {
      "cell_type": "markdown",
      "metadata": {
        "id": "9iy70X_AfMDT"
      },
      "source": [
        "## 2.准备环境\n",
        "> ### 仅第一次需要运行此步\n",
        "\n",
        "> ##### 准备环境完成后请手动将模型文件上传至谷歌云盘\n",
        "> ##### stable-diffusion-webui\\models\\Stable-diffusion下\n",
        "> ##### 或者转存我已经上传好的\n",
        "> ##### https://drive.google.com/file/d/1USLaqDNw5CJcsdiicnBU6o5TOFDz4PkA/view?usp=sharing https://drive.google.com/file/d/1rajxW2TDL13MYc8z7mC2Vgx2ytO-znC9/view?usp=sharing"
      ]
    },
    {
      "cell_type": "markdown",
      "metadata": {
        "id": "A0ViHrpCiXC_"
      },
      "source": [
        "### 2.1. 下载 Stable Diffusion Webui"
      ]
    },
    {
      "cell_type": "code",
      "execution_count": null,
      "metadata": {
        "id": "5OVFjUf4fHX_"
      },
      "outputs": [],
      "source": [
        "%cd /content/drive/MyDrive/\n",
        "!git clone https://github.com/AUTOMATIC1111/stable-diffusion-webui.git"
      ]
    },
    {
      "cell_type": "markdown",
      "metadata": {
        "id": "W83-QzJOibJ1"
      },
      "source": [
        "### 2.2. ~准备依赖环境~"
      ]
    },
    {
      "cell_type": "code",
      "execution_count": null,
      "metadata": {
        "colab": {
          "background_save": true
        },
        "id": "yGxqfl61H94V"
      },
      "outputs": [],
      "source": [
        "\"\"\"\n",
        "%cd /content/drive/MyDrive/stable-diffusion-webui/\n",
        "\n",
        "!pip3 install virtualenv\n",
        "!python3 -m venv \"/content/drive/MyDrive/stable-diffusion-webui/venv\" \n",
        "!virtualenv venv\n",
        "!source /content/drive/MyDrive/stable-diffusion-webui/venv/bin/activate; pip3 install -r requirements.txt\n",
        "\n",
        "\"\"\"\n"
      ]
    },
    {
      "cell_type": "markdown",
      "source": [
        "### 2.3. 更新 Stable Diffusion Webui"
      ],
      "metadata": {
        "id": "bPi-A8HyoA7h"
      }
    },
    {
      "cell_type": "code",
      "source": [
        "%cd /content/drive/MyDrive/stable-diffusion-webui\n",
        "!git pull"
      ],
      "metadata": {
        "id": "6GjnrU4eoI_C"
      },
      "execution_count": null,
      "outputs": []
    },
    {
      "cell_type": "markdown",
      "metadata": {
        "id": "9G3PVn9AgCOy"
      },
      "source": [
        "## 3.启动webui\n",
        "> ### 第一次启动时间可能稍长，需要安装其它依赖"
      ]
    },
    {
      "cell_type": "markdown",
      "metadata": {
        "id": "b_gPXSTliTOH"
      },
      "source": [
        "### 3.0. 确认分配到的显卡信息"
      ]
    },
    {
      "cell_type": "code",
      "execution_count": null,
      "metadata": {
        "id": "lTyWQEvLfti9"
      },
      "outputs": [],
      "source": [
        "!nvidia-smi"
      ]
    },
    {
      "cell_type": "markdown",
      "source": [
        "### 3.1. 安装python3.10"
      ],
      "metadata": {
        "id": "m6uEIFq_dQ20"
      }
    },
    {
      "cell_type": "code",
      "execution_count": null,
      "metadata": {
        "id": "5M2x0NNitDev"
      },
      "outputs": [],
      "source": [
        "import sys\n",
        "\n",
        "\n",
        "!wget https://repo.anaconda.com/miniconda/Miniconda3-latest-Linux-x86_64.sh\n",
        "!chmod +x Miniconda3-latest-Linux-x86_64.sh\n",
        "!bash ./Miniconda3-latest-Linux-x86_64.sh -b -f -p /usr/local\n",
        "sys.path.append('/usr/local/lib/python3.7/site-packages/')\n",
        "!rm Miniconda3-latest-Linux-x86_64.sh\n",
        "\n",
        "\n",
        "!conda install python=3.10 -y\n",
        "!conda install pip=22.2.2 -y\n",
        "\n",
        "!sudo update-alternatives --install /usr/bin/python3 python3 /usr/bin/python3.7 1\n",
        "!sudo update-alternatives --install /usr/bin/python3 python3 /usr/bin/python3.10 2"
      ]
    },
    {
      "cell_type": "markdown",
      "source": [
        "### 3.2. 设置用户名密码"
      ],
      "metadata": {
        "id": "m4IsSVbfdYIi"
      }
    },
    {
      "cell_type": "code",
      "execution_count": null,
      "metadata": {
        "id": "JJX-3wY5JTRI"
      },
      "outputs": [],
      "source": [
        "import os\n",
        "import sys\n",
        "\n",
        "#@markdown - 设置用户名密码\n",
        "username = \"test\" #@param {type:\"string\"}\n",
        "password = \"yeyeyeye\" #@param {type:\"string\"}\n",
        "\n",
        "#@markdown - 使用deepdanbooru\n",
        "UseDeepdanbooru = True #@param {type:\"boolean\"}\n",
        "\n",
        "\n",
        "StartParam = \"--share\"\n",
        "\n",
        "if UseDeepdanbooru == True:\n",
        "  StartParam += \" --deepdanbooru\"\n",
        "if (username != \"\") and (password != \"\"):\n",
        "  StartParam += \" --gradio-auth \"+ username +\":\"+ password\n",
        "\n"
      ]
    },
    {
      "cell_type": "markdown",
      "source": [
        "### 3.3. 启动Webui"
      ],
      "metadata": {
        "id": "Bib_3UUGdfRh"
      }
    },
    {
      "cell_type": "code",
      "source": [
        "%cd /content/drive/MyDrive/stable-diffusion-webui/\n",
        "\n",
        "\n",
        "!pip3 install virtualenv\n",
        "!python3 -m venv \"/content/venv\" \n",
        "!virtualenv venv\n",
        "!source /content/venv/bin/activate; python3 launch.py \\\n",
        "$StartParam\n"
      ],
      "metadata": {
        "id": "Guciaaf_RrL1"
      },
      "execution_count": null,
      "outputs": []
    },
    {
      "cell_type": "markdown",
      "metadata": {
        "id": "-Fc1dRlolFde"
      },
      "source": [
        "## 4.请间隔几分钟点击本页面以避免断开与后端的连接\n",
        "\n",
        "> 或者将此段代码粘贴到控制台\n",
        "\n",
        "```\n",
        "function ClickConnect(){\n",
        "\n",
        "console.log(\"Working\"); \n",
        "document.querySelector(\"#comments > span\").click() \n",
        "}\n",
        "setInterval(ClickConnect,6000)\n",
        "```"
      ]
    }
  ],
  "metadata": {
    "accelerator": "GPU",
    "colab": {
      "collapsed_sections": [
        "A0ViHrpCiXC_",
        "W83-QzJOibJ1",
        "bPi-A8HyoA7h",
        "b_gPXSTliTOH"
      ],
      "provenance": [],
      "authorship_tag": "ABX9TyNj+EM7mc7qTWrZ4I3db3UX",
      "include_colab_link": true
    },
    "kernelspec": {
      "display_name": "Python 3",
      "name": "python3"
    },
    "language_info": {
      "name": "python"
    }
  },
  "nbformat": 4,
  "nbformat_minor": 0
}